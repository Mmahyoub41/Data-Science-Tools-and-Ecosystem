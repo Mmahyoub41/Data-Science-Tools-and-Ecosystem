{
 "cells": [
  {
   "cell_type": "markdown",
   "id": "d8a19c9a-d91c-4b63-a650-4dab6f7f4f21",
   "metadata": {},
   "source": [
    "# Data Science Tools and Ecosystem"
   ]
  },
  {
   "cell_type": "markdown",
   "id": "50468712-f5a3-4da7-ba56-071cbdebb357",
   "metadata": {},
   "source": [
    "In this notebook, Data Science Tools and Ecosystem are summarized"
   ]
  },
  {
   "cell_type": "markdown",
   "id": "fd17b36a-17ad-4df0-84d7-3187d37ec8ca",
   "metadata": {},
   "source": [
    "Some of the popular languages that Data Scientists use are:\n",
    "1. Python\n",
    "2. R\n",
    "3. SQL\n",
    "4. Java\n",
    "5. C++"
   ]
  },
  {
   "cell_type": "markdown",
   "id": "b23282f1-c995-4bbf-8341-ba92bff67c90",
   "metadata": {},
   "source": [
    "Some of the commonly used libraries used by Data Scientists include:\n",
    "1. Numpy\n",
    "2. Pandas\n",
    "3. Scikit-Learn\n",
    "4. Matplotlib\n",
    "5. TensorFlow"
   ]
  },
  {
   "cell_type": "markdown",
   "id": "a2c76c03-14b4-4372-b765-e944bd63fa89",
   "metadata": {},
   "source": [
    "|Data Science Tools|\n",
    "|---|\n",
    "|Anaconda|\n",
    "|Jupyter notebook|\n",
    "|R studio|"
   ]
  },
  {
   "cell_type": "markdown",
   "id": "7fa706c1-b7da-4b59-8c98-90971a447d37",
   "metadata": {},
   "source": [
    "### Below are a few examples of evaluating arithmetic expressions in Python"
   ]
  },
  {
   "cell_type": "code",
   "execution_count": 1,
   "id": "1746aba6-a774-47ae-ad72-b268a53f0ce3",
   "metadata": {},
   "outputs": [
    {
     "data": {
      "text/plain": [
       "17"
      ]
     },
     "execution_count": 1,
     "metadata": {},
     "output_type": "execute_result"
    }
   ],
   "source": [
    "#This a simple arithmetic expression to mutiply then add integers.\n",
    "(3*4)+5"
   ]
  },
  {
   "cell_type": "code",
   "execution_count": 2,
   "id": "622bdd71-3ac1-4124-bd29-f940c5e0be40",
   "metadata": {},
   "outputs": [
    {
     "data": {
      "text/plain": [
       "3.3333333333333335"
      ]
     },
     "execution_count": 2,
     "metadata": {},
     "output_type": "execute_result"
    }
   ],
   "source": [
    "#This will convert 200 minutes to hours by diving by 60.\n",
    "200/60"
   ]
  },
  {
   "cell_type": "markdown",
   "id": "dbe35337-debc-43d1-aaff-7324caccf4a5",
   "metadata": {},
   "source": [
    "__Objectives:__\n",
    "* List of popular languages for data science\n",
    "* List of popular libraries used for data science\n",
    "* List of common Tools for data science\n",
    "* How to do simple arithmetic expression\n",
    "* How to use comment "
   ]
  },
  {
   "cell_type": "markdown",
   "id": "c64b2d67-2a2c-461d-8655-b3254c0e5d89",
   "metadata": {},
   "source": [
    "## Author \n",
    "Mohammed Mahyoub"
   ]
  },
  {
   "cell_type": "code",
   "execution_count": null,
   "id": "055706eb-051b-4724-9d89-811552ef9857",
   "metadata": {},
   "outputs": [],
   "source": []
  }
 ],
 "metadata": {
  "kernelspec": {
   "display_name": "Python 3 (ipykernel)",
   "language": "python",
   "name": "python3"
  },
  "language_info": {
   "codemirror_mode": {
    "name": "ipython",
    "version": 3
   },
   "file_extension": ".py",
   "mimetype": "text/x-python",
   "name": "python",
   "nbconvert_exporter": "python",
   "pygments_lexer": "ipython3",
   "version": "3.11.9"
  }
 },
 "nbformat": 4,
 "nbformat_minor": 5
}
